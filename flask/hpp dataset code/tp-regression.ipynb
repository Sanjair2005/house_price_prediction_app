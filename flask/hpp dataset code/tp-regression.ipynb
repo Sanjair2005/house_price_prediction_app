{
 "cells": [
  {
   "cell_type": "code",
   "execution_count": 1,
   "id": "34f3fea4",
   "metadata": {
    "_cell_guid": "b1076dfc-b9ad-4769-8c92-a6c4dae69d19",
    "_uuid": "8f2839f25d086af736a60e9eeb907d3b93b6e0e5",
    "execution": {
     "iopub.execute_input": "2024-04-15T13:52:42.579837Z",
     "iopub.status.busy": "2024-04-15T13:52:42.578935Z",
     "iopub.status.idle": "2024-04-15T13:52:44.393673Z",
     "shell.execute_reply": "2024-04-15T13:52:44.392069Z"
    },
    "papermill": {
     "duration": 1.839872,
     "end_time": "2024-04-15T13:52:44.397783",
     "exception": false,
     "start_time": "2024-04-15T13:52:42.557911",
     "status": "completed"
    },
    "tags": []
   },
   "outputs": [
    {
     "name": "stdout",
     "output_type": "stream",
     "text": [
      "/kaggle/input/housedata/output.csv\n",
      "/kaggle/input/housedata/data.csv\n",
      "/kaggle/input/housedata/data.dat\n"
     ]
    }
   ],
   "source": [
    "##      Importer les librairies pandas numpy seaborn matplotlib.pyplot\n",
    "\n",
    "import numpy as np # linear algebra\n",
    "import pandas as pd # data processing, CSV file I/O (e.g. pd.read_csv)\n",
    "import seaborn as sns\n",
    "import matplotlib.pyplot as plt\n",
    "import os\n",
    "from sklearn.model_selection import train_test_split\n",
    "from sklearn.preprocessing import StandardScaler\n",
    "from sklearn.linear_model import LogisticRegression\n",
    "from sklearn.metrics import confusion_matrix, roc_curve, roc_auc_score\n",
    "for dirname, _, filenames in os.walk('/kaggle/input'):\n",
    "    for filename in filenames:\n",
    "        print(os.path.join(dirname, filename))\n",
    "df = pd.read_csv('/kaggle/input/housedata/data.csv')"
   ]
  },
  {
   "cell_type": "code",
   "execution_count": 2,
   "id": "cb0b3f66",
   "metadata": {
    "execution": {
     "iopub.execute_input": "2024-04-15T13:52:44.425076Z",
     "iopub.status.busy": "2024-04-15T13:52:44.424550Z",
     "iopub.status.idle": "2024-04-15T13:52:44.521619Z",
     "shell.execute_reply": "2024-04-15T13:52:44.520086Z"
    },
    "papermill": {
     "duration": 0.114792,
     "end_time": "2024-04-15T13:52:44.525087",
     "exception": false,
     "start_time": "2024-04-15T13:52:44.410295",
     "status": "completed"
    },
    "tags": []
   },
   "outputs": [
    {
     "data": {
      "text/html": [
       "<div>\n",
       "<style scoped>\n",
       "    .dataframe tbody tr th:only-of-type {\n",
       "        vertical-align: middle;\n",
       "    }\n",
       "\n",
       "    .dataframe tbody tr th {\n",
       "        vertical-align: top;\n",
       "    }\n",
       "\n",
       "    .dataframe thead th {\n",
       "        text-align: right;\n",
       "    }\n",
       "</style>\n",
       "<table border=\"1\" class=\"dataframe\">\n",
       "  <thead>\n",
       "    <tr style=\"text-align: right;\">\n",
       "      <th></th>\n",
       "      <th>price</th>\n",
       "      <th>bedrooms</th>\n",
       "      <th>bathrooms</th>\n",
       "      <th>sqft_living</th>\n",
       "      <th>sqft_lot</th>\n",
       "      <th>floors</th>\n",
       "      <th>waterfront</th>\n",
       "      <th>view</th>\n",
       "      <th>condition</th>\n",
       "      <th>sqft_above</th>\n",
       "      <th>sqft_basement</th>\n",
       "      <th>yr_built</th>\n",
       "      <th>yr_renovated</th>\n",
       "    </tr>\n",
       "  </thead>\n",
       "  <tbody>\n",
       "    <tr>\n",
       "      <th>count</th>\n",
       "      <td>4.600000e+03</td>\n",
       "      <td>4600.000000</td>\n",
       "      <td>4600.000000</td>\n",
       "      <td>4600.000000</td>\n",
       "      <td>4.600000e+03</td>\n",
       "      <td>4600.000000</td>\n",
       "      <td>4600.000000</td>\n",
       "      <td>4600.000000</td>\n",
       "      <td>4600.000000</td>\n",
       "      <td>4600.000000</td>\n",
       "      <td>4600.000000</td>\n",
       "      <td>4600.000000</td>\n",
       "      <td>4600.000000</td>\n",
       "    </tr>\n",
       "    <tr>\n",
       "      <th>mean</th>\n",
       "      <td>5.519630e+05</td>\n",
       "      <td>3.400870</td>\n",
       "      <td>2.160815</td>\n",
       "      <td>2139.346957</td>\n",
       "      <td>1.485252e+04</td>\n",
       "      <td>1.512065</td>\n",
       "      <td>0.007174</td>\n",
       "      <td>0.240652</td>\n",
       "      <td>3.451739</td>\n",
       "      <td>1827.265435</td>\n",
       "      <td>312.081522</td>\n",
       "      <td>1970.786304</td>\n",
       "      <td>808.608261</td>\n",
       "    </tr>\n",
       "    <tr>\n",
       "      <th>std</th>\n",
       "      <td>5.638347e+05</td>\n",
       "      <td>0.908848</td>\n",
       "      <td>0.783781</td>\n",
       "      <td>963.206916</td>\n",
       "      <td>3.588444e+04</td>\n",
       "      <td>0.538288</td>\n",
       "      <td>0.084404</td>\n",
       "      <td>0.778405</td>\n",
       "      <td>0.677230</td>\n",
       "      <td>862.168977</td>\n",
       "      <td>464.137228</td>\n",
       "      <td>29.731848</td>\n",
       "      <td>979.414536</td>\n",
       "    </tr>\n",
       "    <tr>\n",
       "      <th>min</th>\n",
       "      <td>0.000000e+00</td>\n",
       "      <td>0.000000</td>\n",
       "      <td>0.000000</td>\n",
       "      <td>370.000000</td>\n",
       "      <td>6.380000e+02</td>\n",
       "      <td>1.000000</td>\n",
       "      <td>0.000000</td>\n",
       "      <td>0.000000</td>\n",
       "      <td>1.000000</td>\n",
       "      <td>370.000000</td>\n",
       "      <td>0.000000</td>\n",
       "      <td>1900.000000</td>\n",
       "      <td>0.000000</td>\n",
       "    </tr>\n",
       "    <tr>\n",
       "      <th>25%</th>\n",
       "      <td>3.228750e+05</td>\n",
       "      <td>3.000000</td>\n",
       "      <td>1.750000</td>\n",
       "      <td>1460.000000</td>\n",
       "      <td>5.000750e+03</td>\n",
       "      <td>1.000000</td>\n",
       "      <td>0.000000</td>\n",
       "      <td>0.000000</td>\n",
       "      <td>3.000000</td>\n",
       "      <td>1190.000000</td>\n",
       "      <td>0.000000</td>\n",
       "      <td>1951.000000</td>\n",
       "      <td>0.000000</td>\n",
       "    </tr>\n",
       "    <tr>\n",
       "      <th>50%</th>\n",
       "      <td>4.609435e+05</td>\n",
       "      <td>3.000000</td>\n",
       "      <td>2.250000</td>\n",
       "      <td>1980.000000</td>\n",
       "      <td>7.683000e+03</td>\n",
       "      <td>1.500000</td>\n",
       "      <td>0.000000</td>\n",
       "      <td>0.000000</td>\n",
       "      <td>3.000000</td>\n",
       "      <td>1590.000000</td>\n",
       "      <td>0.000000</td>\n",
       "      <td>1976.000000</td>\n",
       "      <td>0.000000</td>\n",
       "    </tr>\n",
       "    <tr>\n",
       "      <th>75%</th>\n",
       "      <td>6.549625e+05</td>\n",
       "      <td>4.000000</td>\n",
       "      <td>2.500000</td>\n",
       "      <td>2620.000000</td>\n",
       "      <td>1.100125e+04</td>\n",
       "      <td>2.000000</td>\n",
       "      <td>0.000000</td>\n",
       "      <td>0.000000</td>\n",
       "      <td>4.000000</td>\n",
       "      <td>2300.000000</td>\n",
       "      <td>610.000000</td>\n",
       "      <td>1997.000000</td>\n",
       "      <td>1999.000000</td>\n",
       "    </tr>\n",
       "    <tr>\n",
       "      <th>max</th>\n",
       "      <td>2.659000e+07</td>\n",
       "      <td>9.000000</td>\n",
       "      <td>8.000000</td>\n",
       "      <td>13540.000000</td>\n",
       "      <td>1.074218e+06</td>\n",
       "      <td>3.500000</td>\n",
       "      <td>1.000000</td>\n",
       "      <td>4.000000</td>\n",
       "      <td>5.000000</td>\n",
       "      <td>9410.000000</td>\n",
       "      <td>4820.000000</td>\n",
       "      <td>2014.000000</td>\n",
       "      <td>2014.000000</td>\n",
       "    </tr>\n",
       "  </tbody>\n",
       "</table>\n",
       "</div>"
      ],
      "text/plain": [
       "              price     bedrooms    bathrooms   sqft_living      sqft_lot  \\\n",
       "count  4.600000e+03  4600.000000  4600.000000   4600.000000  4.600000e+03   \n",
       "mean   5.519630e+05     3.400870     2.160815   2139.346957  1.485252e+04   \n",
       "std    5.638347e+05     0.908848     0.783781    963.206916  3.588444e+04   \n",
       "min    0.000000e+00     0.000000     0.000000    370.000000  6.380000e+02   \n",
       "25%    3.228750e+05     3.000000     1.750000   1460.000000  5.000750e+03   \n",
       "50%    4.609435e+05     3.000000     2.250000   1980.000000  7.683000e+03   \n",
       "75%    6.549625e+05     4.000000     2.500000   2620.000000  1.100125e+04   \n",
       "max    2.659000e+07     9.000000     8.000000  13540.000000  1.074218e+06   \n",
       "\n",
       "            floors   waterfront         view    condition   sqft_above  \\\n",
       "count  4600.000000  4600.000000  4600.000000  4600.000000  4600.000000   \n",
       "mean      1.512065     0.007174     0.240652     3.451739  1827.265435   \n",
       "std       0.538288     0.084404     0.778405     0.677230   862.168977   \n",
       "min       1.000000     0.000000     0.000000     1.000000   370.000000   \n",
       "25%       1.000000     0.000000     0.000000     3.000000  1190.000000   \n",
       "50%       1.500000     0.000000     0.000000     3.000000  1590.000000   \n",
       "75%       2.000000     0.000000     0.000000     4.000000  2300.000000   \n",
       "max       3.500000     1.000000     4.000000     5.000000  9410.000000   \n",
       "\n",
       "       sqft_basement     yr_built  yr_renovated  \n",
       "count    4600.000000  4600.000000   4600.000000  \n",
       "mean      312.081522  1970.786304    808.608261  \n",
       "std       464.137228    29.731848    979.414536  \n",
       "min         0.000000  1900.000000      0.000000  \n",
       "25%         0.000000  1951.000000      0.000000  \n",
       "50%         0.000000  1976.000000      0.000000  \n",
       "75%       610.000000  1997.000000   1999.000000  \n",
       "max      4820.000000  2014.000000   2014.000000  "
      ]
     },
     "execution_count": 2,
     "metadata": {},
     "output_type": "execute_result"
    }
   ],
   "source": [
    "df.shape\n",
    "df.isnull().sum()\n",
    "df.dtypes\n",
    "df.describe()"
   ]
  },
  {
   "cell_type": "markdown",
   "id": "28aa2600",
   "metadata": {
    "papermill": {
     "duration": 0.012296,
     "end_time": "2024-04-15T13:52:44.550235",
     "exception": false,
     "start_time": "2024-04-15T13:52:44.537939",
     "status": "completed"
    },
    "tags": []
   },
   "source": [
    "**Question 2**"
   ]
  },
  {
   "cell_type": "code",
   "execution_count": 3,
   "id": "d67e7f9e",
   "metadata": {
    "execution": {
     "iopub.execute_input": "2024-04-15T13:52:44.578356Z",
     "iopub.status.busy": "2024-04-15T13:52:44.577283Z",
     "iopub.status.idle": "2024-04-15T13:52:45.790890Z",
     "shell.execute_reply": "2024-04-15T13:52:45.789298Z"
    },
    "papermill": {
     "duration": 1.234307,
     "end_time": "2024-04-15T13:52:45.797149",
     "exception": false,
     "start_time": "2024-04-15T13:52:44.562842",
     "status": "completed"
    },
    "tags": []
   },
   "outputs": [
    {
     "data": {
      "image/png": "[encoded data removed]",
      "text/plain": [
       "<Figure size 1000x1000 with 2 Axes>"
      ]
     },
     "metadata": {},
     "output_type": "display_data"
    }
   ],
   "source": [
    "plt.figure(figsize=(10,10))\n",
    "sns.heatmap(df.corr(), annot=True, fmt='.0%')\n",
    "plt.show()"
   ]
  },
  {
   "cell_type": "markdown",
   "id": "a95a4555",
   "metadata": {
    "papermill": {
     "duration": 0.015965,
     "end_time": "2024-04-15T13:52:45.829982",
     "exception": false,
     "start_time": "2024-04-15T13:52:45.814017",
     "status": "completed"
    },
    "tags": []
   },
   "source": [
    "**Question 3**"
   ]
  },
  {
   "cell_type": "markdown",
   "id": "5f2d6c4c",
   "metadata": {
    "papermill": {
     "duration": 0.01557,
     "end_time": "2024-04-15T13:52:45.861693",
     "exception": false,
     "start_time": "2024-04-15T13:52:45.846123",
     "status": "completed"
    },
    "tags": []
   },
   "source": [
    "On constate des colonnes de type float\n",
    "Il faudrait dans l'idéal avoir des int \n",
    "nous allons donc devoir les converitr"
   ]
  },
  {
   "cell_type": "code",
   "execution_count": 4,
   "id": "b8b18539",
   "metadata": {
    "execution": {
     "iopub.execute_input": "2024-04-15T13:52:45.896865Z",
     "iopub.status.busy": "2024-04-15T13:52:45.895563Z",
     "iopub.status.idle": "2024-04-15T13:52:45.906329Z",
     "shell.execute_reply": "2024-04-15T13:52:45.905332Z"
    },
    "papermill": {
     "duration": 0.031603,
     "end_time": "2024-04-15T13:52:45.909328",
     "exception": false,
     "start_time": "2024-04-15T13:52:45.877725",
     "status": "completed"
    },
    "tags": []
   },
   "outputs": [],
   "source": [
    "df['price'] = df['price'].astype('int64')\n",
    "df['bedrooms'] = df['bedrooms'].astype('int64')\n",
    "df['bathrooms'] = df['bathrooms'].astype('int64')\n",
    "df['floors'] = df['floors'].astype('int64')"
   ]
  },
  {
   "cell_type": "markdown",
   "id": "d5201d24",
   "metadata": {
    "papermill": {
     "duration": 0.015488,
     "end_time": "2024-04-15T13:52:45.941140",
     "exception": false,
     "start_time": "2024-04-15T13:52:45.925652",
     "status": "completed"
    },
    "tags": []
   },
   "source": [
    "**Question 4**"
   ]
  },
  {
   "cell_type": "code",
   "execution_count": 5,
   "id": "35237371",
   "metadata": {
    "execution": {
     "iopub.execute_input": "2024-04-15T13:52:45.975924Z",
     "iopub.status.busy": "2024-04-15T13:52:45.974940Z",
     "iopub.status.idle": "2024-04-15T13:52:45.987479Z",
     "shell.execute_reply": "2024-04-15T13:52:45.986040Z"
    },
    "papermill": {
     "duration": 0.033661,
     "end_time": "2024-04-15T13:52:45.990722",
     "exception": false,
     "start_time": "2024-04-15T13:52:45.957061",
     "status": "completed"
    },
    "tags": []
   },
   "outputs": [
    {
     "data": {
      "text/plain": [
       "date             object\n",
       "price             int64\n",
       "bedrooms          int64\n",
       "bathrooms         int64\n",
       "sqft_living       int64\n",
       "sqft_lot          int64\n",
       "floors            int64\n",
       "waterfront        int64\n",
       "view              int64\n",
       "condition         int64\n",
       "sqft_above        int64\n",
       "sqft_basement     int64\n",
       "yr_built          int64\n",
       "yr_renovated      int64\n",
       "street           object\n",
       "city             object\n",
       "statezip         object\n",
       "country          object\n",
       "dtype: object"
      ]
     },
     "execution_count": 5,
     "metadata": {},
     "output_type": "execute_result"
    }
   ],
   "source": [
    "df.dtypes"
   ]
  },
  {
   "cell_type": "markdown",
   "id": "090af108",
   "metadata": {
    "papermill": {
     "duration": 0.015811,
     "end_time": "2024-04-15T13:52:46.024017",
     "exception": false,
     "start_time": "2024-04-15T13:52:46.008206",
     "status": "completed"
    },
    "tags": []
   },
   "source": [
    "On remarque tout est bien en int"
   ]
  },
  {
   "cell_type": "markdown",
   "id": "92718230",
   "metadata": {
    "papermill": {
     "duration": 0.015699,
     "end_time": "2024-04-15T13:52:46.055981",
     "exception": false,
     "start_time": "2024-04-15T13:52:46.040282",
     "status": "completed"
    },
    "tags": []
   },
   "source": [
    "**Question 5**"
   ]
  },
  {
   "cell_type": "markdown",
   "id": "5d991f59",
   "metadata": {
    "papermill": {
     "duration": 0.015717,
     "end_time": "2024-04-15T13:52:46.087831",
     "exception": false,
     "start_time": "2024-04-15T13:52:46.072114",
     "status": "completed"
    },
    "tags": []
   },
   "source": [
    "Les prix sont tous élevé"
   ]
  },
  {
   "cell_type": "markdown",
   "id": "7fbe93c5",
   "metadata": {
    "papermill": {
     "duration": 0.01574,
     "end_time": "2024-04-15T13:52:46.120299",
     "exception": false,
     "start_time": "2024-04-15T13:52:46.104559",
     "status": "completed"
    },
    "tags": []
   },
   "source": [
    "**Question 6**"
   ]
  },
  {
   "cell_type": "code",
   "execution_count": 6,
   "id": "523039bb",
   "metadata": {
    "execution": {
     "iopub.execute_input": "2024-04-15T13:52:46.156685Z",
     "iopub.status.busy": "2024-04-15T13:52:46.155105Z",
     "iopub.status.idle": "2024-04-15T13:52:46.163606Z",
     "shell.execute_reply": "2024-04-15T13:52:46.162516Z"
    },
    "papermill": {
     "duration": 0.029321,
     "end_time": "2024-04-15T13:52:46.166485",
     "exception": false,
     "start_time": "2024-04-15T13:52:46.137164",
     "status": "completed"
    },
    "tags": []
   },
   "outputs": [],
   "source": [
    "df['price'].replace(0, np.nan, inplace=True)"
   ]
  },
  {
   "cell_type": "markdown",
   "id": "35035250",
   "metadata": {
    "papermill": {
     "duration": 0.015851,
     "end_time": "2024-04-15T13:52:46.198734",
     "exception": false,
     "start_time": "2024-04-15T13:52:46.182883",
     "status": "completed"
    },
    "tags": []
   },
   "source": [
    "**Question 7**"
   ]
  },
  {
   "cell_type": "code",
   "execution_count": 7,
   "id": "501634ae",
   "metadata": {
    "execution": {
     "iopub.execute_input": "2024-04-15T13:52:46.235196Z",
     "iopub.status.busy": "2024-04-15T13:52:46.234186Z",
     "iopub.status.idle": "2024-04-15T13:52:46.249796Z",
     "shell.execute_reply": "2024-04-15T13:52:46.248370Z"
    },
    "papermill": {
     "duration": 0.036571,
     "end_time": "2024-04-15T13:52:46.252599",
     "exception": false,
     "start_time": "2024-04-15T13:52:46.216028",
     "status": "completed"
    },
    "tags": []
   },
   "outputs": [
    {
     "data": {
      "text/plain": [
       "date              0\n",
       "price            49\n",
       "bedrooms          0\n",
       "bathrooms         0\n",
       "sqft_living       0\n",
       "sqft_lot          0\n",
       "floors            0\n",
       "waterfront        0\n",
       "view              0\n",
       "condition         0\n",
       "sqft_above        0\n",
       "sqft_basement     0\n",
       "yr_built          0\n",
       "yr_renovated      0\n",
       "street            0\n",
       "city              0\n",
       "statezip          0\n",
       "country           0\n",
       "dtype: int64"
      ]
     },
     "execution_count": 7,
     "metadata": {},
     "output_type": "execute_result"
    }
   ],
   "source": [
    "df.isna().sum()"
   ]
  },
  {
   "cell_type": "markdown",
   "id": "d4377f1e",
   "metadata": {
    "papermill": {
     "duration": 0.015915,
     "end_time": "2024-04-15T13:52:46.285274",
     "exception": false,
     "start_time": "2024-04-15T13:52:46.269359",
     "status": "completed"
    },
    "tags": []
   },
   "source": [
    "**Question 8**"
   ]
  },
  {
   "cell_type": "code",
   "execution_count": 8,
   "id": "5324247d",
   "metadata": {
    "execution": {
     "iopub.execute_input": "2024-04-15T13:52:46.320954Z",
     "iopub.status.busy": "2024-04-15T13:52:46.319979Z",
     "iopub.status.idle": "2024-04-15T13:52:46.327317Z",
     "shell.execute_reply": "2024-04-15T13:52:46.326361Z"
    },
    "papermill": {
     "duration": 0.028462,
     "end_time": "2024-04-15T13:52:46.330150",
     "exception": false,
     "start_time": "2024-04-15T13:52:46.301688",
     "status": "completed"
    },
    "tags": []
   },
   "outputs": [],
   "source": [
    "df['price'].fillna(df['price'].mean(), inplace=True)"
   ]
  },
  {
   "cell_type": "markdown",
   "id": "f7b77caa",
   "metadata": {
    "papermill": {
     "duration": 0.015834,
     "end_time": "2024-04-15T13:52:46.362216",
     "exception": false,
     "start_time": "2024-04-15T13:52:46.346382",
     "status": "completed"
    },
    "tags": []
   },
   "source": [
    "**Question 9**"
   ]
  },
  {
   "cell_type": "code",
   "execution_count": 9,
   "id": "5876edee",
   "metadata": {
    "execution": {
     "iopub.execute_input": "2024-04-15T13:52:46.397456Z",
     "iopub.status.busy": "2024-04-15T13:52:46.396463Z",
     "iopub.status.idle": "2024-04-15T13:52:46.412677Z",
     "shell.execute_reply": "2024-04-15T13:52:46.411112Z"
    },
    "papermill": {
     "duration": 0.037409,
     "end_time": "2024-04-15T13:52:46.415808",
     "exception": false,
     "start_time": "2024-04-15T13:52:46.378399",
     "status": "completed"
    },
    "tags": []
   },
   "outputs": [
    {
     "data": {
      "text/plain": [
       "date             0\n",
       "price            0\n",
       "bedrooms         0\n",
       "bathrooms        0\n",
       "sqft_living      0\n",
       "sqft_lot         0\n",
       "floors           0\n",
       "waterfront       0\n",
       "view             0\n",
       "condition        0\n",
       "sqft_above       0\n",
       "sqft_basement    0\n",
       "yr_built         0\n",
       "yr_renovated     0\n",
       "street           0\n",
       "city             0\n",
       "statezip         0\n",
       "country          0\n",
       "dtype: int64"
      ]
     },
     "execution_count": 9,
     "metadata": {},
     "output_type": "execute_result"
    }
   ],
   "source": [
    "df.isna().sum()"
   ]
  },
  {
   "cell_type": "markdown",
   "id": "bf7b533a",
   "metadata": {
    "papermill": {
     "duration": 0.016495,
     "end_time": "2024-04-15T13:52:46.449175",
     "exception": false,
     "start_time": "2024-04-15T13:52:46.432680",
     "status": "completed"
    },
    "tags": []
   },
   "source": [
    "**Question 10**"
   ]
  },
  {
   "cell_type": "code",
   "execution_count": 10,
   "id": "c614118c",
   "metadata": {
    "execution": {
     "iopub.execute_input": "2024-04-15T13:52:46.484945Z",
     "iopub.status.busy": "2024-04-15T13:52:46.484421Z",
     "iopub.status.idle": "2024-04-15T13:52:46.511772Z",
     "shell.execute_reply": "2024-04-15T13:52:46.510343Z"
    },
    "papermill": {
     "duration": 0.04887,
     "end_time": "2024-04-15T13:52:46.514914",
     "exception": false,
     "start_time": "2024-04-15T13:52:46.466044",
     "status": "completed"
    },
    "tags": []
   },
   "outputs": [
    {
     "data": {
      "text/html": [
       "<div>\n",
       "<style scoped>\n",
       "    .dataframe tbody tr th:only-of-type {\n",
       "        vertical-align: middle;\n",
       "    }\n",
       "\n",
       "    .dataframe tbody tr th {\n",
       "        vertical-align: top;\n",
       "    }\n",
       "\n",
       "    .dataframe thead th {\n",
       "        text-align: right;\n",
       "    }\n",
       "</style>\n",
       "<table border=\"1\" class=\"dataframe\">\n",
       "  <thead>\n",
       "    <tr style=\"text-align: right;\">\n",
       "      <th></th>\n",
       "      <th>Algona</th>\n",
       "      <th>Auburn</th>\n",
       "      <th>Beaux Arts Village</th>\n",
       "      <th>Bellevue</th>\n",
       "      <th>Black Diamond</th>\n",
       "      <th>Bothell</th>\n",
       "      <th>Burien</th>\n",
       "      <th>Carnation</th>\n",
       "      <th>Clyde Hill</th>\n",
       "      <th>Covington</th>\n",
       "      <th>...</th>\n",
       "      <th>SeaTac</th>\n",
       "      <th>Seattle</th>\n",
       "      <th>Shoreline</th>\n",
       "      <th>Skykomish</th>\n",
       "      <th>Snoqualmie</th>\n",
       "      <th>Snoqualmie Pass</th>\n",
       "      <th>Tukwila</th>\n",
       "      <th>Vashon</th>\n",
       "      <th>Woodinville</th>\n",
       "      <th>Yarrow Point</th>\n",
       "    </tr>\n",
       "  </thead>\n",
       "  <tbody>\n",
       "    <tr>\n",
       "      <th>0</th>\n",
       "      <td>0</td>\n",
       "      <td>0</td>\n",
       "      <td>0</td>\n",
       "      <td>0</td>\n",
       "      <td>0</td>\n",
       "      <td>0</td>\n",
       "      <td>0</td>\n",
       "      <td>0</td>\n",
       "      <td>0</td>\n",
       "      <td>0</td>\n",
       "      <td>...</td>\n",
       "      <td>0</td>\n",
       "      <td>0</td>\n",
       "      <td>1</td>\n",
       "      <td>0</td>\n",
       "      <td>0</td>\n",
       "      <td>0</td>\n",
       "      <td>0</td>\n",
       "      <td>0</td>\n",
       "      <td>0</td>\n",
       "      <td>0</td>\n",
       "    </tr>\n",
       "    <tr>\n",
       "      <th>1</th>\n",
       "      <td>0</td>\n",
       "      <td>0</td>\n",
       "      <td>0</td>\n",
       "      <td>0</td>\n",
       "      <td>0</td>\n",
       "      <td>0</td>\n",
       "      <td>0</td>\n",
       "      <td>0</td>\n",
       "      <td>0</td>\n",
       "      <td>0</td>\n",
       "      <td>...</td>\n",
       "      <td>0</td>\n",
       "      <td>1</td>\n",
       "      <td>0</td>\n",
       "      <td>0</td>\n",
       "      <td>0</td>\n",
       "      <td>0</td>\n",
       "      <td>0</td>\n",
       "      <td>0</td>\n",
       "      <td>0</td>\n",
       "      <td>0</td>\n",
       "    </tr>\n",
       "    <tr>\n",
       "      <th>2</th>\n",
       "      <td>0</td>\n",
       "      <td>0</td>\n",
       "      <td>0</td>\n",
       "      <td>0</td>\n",
       "      <td>0</td>\n",
       "      <td>0</td>\n",
       "      <td>0</td>\n",
       "      <td>0</td>\n",
       "      <td>0</td>\n",
       "      <td>0</td>\n",
       "      <td>...</td>\n",
       "      <td>0</td>\n",
       "      <td>0</td>\n",
       "      <td>0</td>\n",
       "      <td>0</td>\n",
       "      <td>0</td>\n",
       "      <td>0</td>\n",
       "      <td>0</td>\n",
       "      <td>0</td>\n",
       "      <td>0</td>\n",
       "      <td>0</td>\n",
       "    </tr>\n",
       "    <tr>\n",
       "      <th>3</th>\n",
       "      <td>0</td>\n",
       "      <td>0</td>\n",
       "      <td>0</td>\n",
       "      <td>1</td>\n",
       "      <td>0</td>\n",
       "      <td>0</td>\n",
       "      <td>0</td>\n",
       "      <td>0</td>\n",
       "      <td>0</td>\n",
       "      <td>0</td>\n",
       "      <td>...</td>\n",
       "      <td>0</td>\n",
       "      <td>0</td>\n",
       "      <td>0</td>\n",
       "      <td>0</td>\n",
       "      <td>0</td>\n",
       "      <td>0</td>\n",
       "      <td>0</td>\n",
       "      <td>0</td>\n",
       "      <td>0</td>\n",
       "      <td>0</td>\n",
       "    </tr>\n",
       "    <tr>\n",
       "      <th>4</th>\n",
       "      <td>0</td>\n",
       "      <td>0</td>\n",
       "      <td>0</td>\n",
       "      <td>0</td>\n",
       "      <td>0</td>\n",
       "      <td>0</td>\n",
       "      <td>0</td>\n",
       "      <td>0</td>\n",
       "      <td>0</td>\n",
       "      <td>0</td>\n",
       "      <td>...</td>\n",
       "      <td>0</td>\n",
       "      <td>0</td>\n",
       "      <td>0</td>\n",
       "      <td>0</td>\n",
       "      <td>0</td>\n",
       "      <td>0</td>\n",
       "      <td>0</td>\n",
       "      <td>0</td>\n",
       "      <td>0</td>\n",
       "      <td>0</td>\n",
       "    </tr>\n",
       "  </tbody>\n",
       "</table>\n",
       "<p>5 rows × 44 columns</p>\n",
       "</div>"
      ],
      "text/plain": [
       "   Algona  Auburn  Beaux Arts Village  Bellevue  Black Diamond  Bothell  \\\n",
       "0       0       0                   0         0              0        0   \n",
       "1       0       0                   0         0              0        0   \n",
       "2       0       0                   0         0              0        0   \n",
       "3       0       0                   0         1              0        0   \n",
       "4       0       0                   0         0              0        0   \n",
       "\n",
       "   Burien  Carnation  Clyde Hill  Covington  ...  SeaTac  Seattle  Shoreline  \\\n",
       "0       0          0           0          0  ...       0        0          1   \n",
       "1       0          0           0          0  ...       0        1          0   \n",
       "2       0          0           0          0  ...       0        0          0   \n",
       "3       0          0           0          0  ...       0        0          0   \n",
       "4       0          0           0          0  ...       0        0          0   \n",
       "\n",
       "   Skykomish  Snoqualmie  Snoqualmie Pass  Tukwila  Vashon  Woodinville  \\\n",
       "0          0           0                0        0       0            0   \n",
       "1          0           0                0        0       0            0   \n",
       "2          0           0                0        0       0            0   \n",
       "3          0           0                0        0       0            0   \n",
       "4          0           0                0        0       0            0   \n",
       "\n",
       "   Yarrow Point  \n",
       "0             0  \n",
       "1             0  \n",
       "2             0  \n",
       "3             0  \n",
       "4             0  \n",
       "\n",
       "[5 rows x 44 columns]"
      ]
     },
     "execution_count": 10,
     "metadata": {},
     "output_type": "execute_result"
    }
   ],
   "source": [
    "ville = pd.get_dummies(df['city'])\n",
    "ville.head()"
   ]
  },
  {
   "cell_type": "markdown",
   "id": "5fc705dd",
   "metadata": {
    "papermill": {
     "duration": 0.016509,
     "end_time": "2024-04-15T13:52:46.548623",
     "exception": false,
     "start_time": "2024-04-15T13:52:46.532114",
     "status": "completed"
    },
    "tags": []
   },
   "source": [
    "**Question 11**"
   ]
  },
  {
   "cell_type": "code",
   "execution_count": 11,
   "id": "a05789a6",
   "metadata": {
    "execution": {
     "iopub.execute_input": "2024-04-15T13:52:46.584642Z",
     "iopub.status.busy": "2024-04-15T13:52:46.584161Z",
     "iopub.status.idle": "2024-04-15T13:52:46.594153Z",
     "shell.execute_reply": "2024-04-15T13:52:46.592633Z"
    },
    "papermill": {
     "duration": 0.031924,
     "end_time": "2024-04-15T13:52:46.597337",
     "exception": false,
     "start_time": "2024-04-15T13:52:46.565413",
     "status": "completed"
    },
    "tags": []
   },
   "outputs": [],
   "source": [
    "df.drop(['city', 'country', 'statezip', 'street', 'date'], axis=1, inplace=True)"
   ]
  },
  {
   "cell_type": "markdown",
   "id": "012d3a90",
   "metadata": {
    "papermill": {
     "duration": 0.01757,
     "end_time": "2024-04-15T13:52:46.632046",
     "exception": false,
     "start_time": "2024-04-15T13:52:46.614476",
     "status": "completed"
    },
    "tags": []
   },
   "source": [
    "**Question 12**"
   ]
  },
  {
   "cell_type": "code",
   "execution_count": 12,
   "id": "e33b1b82",
   "metadata": {
    "execution": {
     "iopub.execute_input": "2024-04-15T13:52:46.669639Z",
     "iopub.status.busy": "2024-04-15T13:52:46.669158Z",
     "iopub.status.idle": "2024-04-15T13:52:46.676680Z",
     "shell.execute_reply": "2024-04-15T13:52:46.675124Z"
    },
    "papermill": {
     "duration": 0.029712,
     "end_time": "2024-04-15T13:52:46.679313",
     "exception": false,
     "start_time": "2024-04-15T13:52:46.649601",
     "status": "completed"
    },
    "tags": []
   },
   "outputs": [],
   "source": [
    "dt = pd.concat([df, ville], axis=1)"
   ]
  },
  {
   "cell_type": "code",
   "execution_count": 13,
   "id": "f2f13aae",
   "metadata": {
    "execution": {
     "iopub.execute_input": "2024-04-15T13:52:46.716336Z",
     "iopub.status.busy": "2024-04-15T13:52:46.715616Z",
     "iopub.status.idle": "2024-04-15T13:52:46.737856Z",
     "shell.execute_reply": "2024-04-15T13:52:46.736503Z"
    },
    "papermill": {
     "duration": 0.044309,
     "end_time": "2024-04-15T13:52:46.741037",
     "exception": false,
     "start_time": "2024-04-15T13:52:46.696728",
     "status": "completed"
    },
    "tags": []
   },
   "outputs": [],
   "source": [
    "from sklearn.preprocessing import StandardScaler\n",
    "scaler = StandardScaler()\n",
    "Cols = list(dt.columns)\n",
    "scaled_df = scaler.fit_transform(dt[Cols])\n",
    "scaled_df = pd.DataFrame(scaled_df, columns=Cols)"
   ]
  },
  {
   "cell_type": "markdown",
   "id": "d4595006",
   "metadata": {
    "papermill": {
     "duration": 0.017079,
     "end_time": "2024-04-15T13:52:46.775615",
     "exception": false,
     "start_time": "2024-04-15T13:52:46.758536",
     "status": "completed"
    },
    "tags": []
   },
   "source": [
    "**Question 13**\n",
    "    ·        Créer la variable cible y  y=scaled_df[‘cible’]\n",
    "    ·        Créer X=scaled_df en supprimant la variable cible."
   ]
  },
  {
   "cell_type": "code",
   "execution_count": 14,
   "id": "4880f340",
   "metadata": {
    "execution": {
     "iopub.execute_input": "2024-04-15T13:52:46.812468Z",
     "iopub.status.busy": "2024-04-15T13:52:46.811991Z",
     "iopub.status.idle": "2024-04-15T13:52:46.820176Z",
     "shell.execute_reply": "2024-04-15T13:52:46.818852Z"
    },
    "papermill": {
     "duration": 0.029616,
     "end_time": "2024-04-15T13:52:46.822848",
     "exception": false,
     "start_time": "2024-04-15T13:52:46.793232",
     "status": "completed"
    },
    "tags": []
   },
   "outputs": [],
   "source": [
    "y = scaled_df['price']\n",
    "X = scaled_df.drop(['price'], axis=1)"
   ]
  },
  {
   "cell_type": "markdown",
   "id": "043df169",
   "metadata": {
    "papermill": {
     "duration": 0.016472,
     "end_time": "2024-04-15T13:52:46.856286",
     "exception": false,
     "start_time": "2024-04-15T13:52:46.839814",
     "status": "completed"
    },
    "tags": []
   },
   "source": [
    "**Question 14**"
   ]
  },
  {
   "cell_type": "code",
   "execution_count": 15,
   "id": "b4eddd8a",
   "metadata": {
    "execution": {
     "iopub.execute_input": "2024-04-15T13:52:46.892136Z",
     "iopub.status.busy": "2024-04-15T13:52:46.891699Z",
     "iopub.status.idle": "2024-04-15T13:52:46.902702Z",
     "shell.execute_reply": "2024-04-15T13:52:46.901416Z"
    },
    "papermill": {
     "duration": 0.032389,
     "end_time": "2024-04-15T13:52:46.905450",
     "exception": false,
     "start_time": "2024-04-15T13:52:46.873061",
     "status": "completed"
    },
    "tags": []
   },
   "outputs": [],
   "source": [
    "from sklearn.model_selection import train_test_split\n",
    "X_train, X_test, Y_train, Y_test = train_test_split(X, y, test_size=0.2, random_state=0)"
   ]
  },
  {
   "cell_type": "markdown",
   "id": "a25fb402",
   "metadata": {
    "papermill": {
     "duration": 0.016686,
     "end_time": "2024-04-15T13:52:46.938984",
     "exception": false,
     "start_time": "2024-04-15T13:52:46.922298",
     "status": "completed"
    },
    "tags": []
   },
   "source": [
    "**Question 15**"
   ]
  },
  {
   "cell_type": "code",
   "execution_count": 16,
   "id": "92298e5f",
   "metadata": {
    "execution": {
     "iopub.execute_input": "2024-04-15T13:52:46.976189Z",
     "iopub.status.busy": "2024-04-15T13:52:46.975696Z",
     "iopub.status.idle": "2024-04-15T13:52:46.981649Z",
     "shell.execute_reply": "2024-04-15T13:52:46.980727Z"
    },
    "papermill": {
     "duration": 0.027347,
     "end_time": "2024-04-15T13:52:46.984139",
     "exception": false,
     "start_time": "2024-04-15T13:52:46.956792",
     "status": "completed"
    },
    "tags": []
   },
   "outputs": [],
   "source": [
    "from sklearn import linear_model\n",
    "from sklearn.metrics import mean_absolute_error\n",
    "from sklearn.metrics import mean_squared_error, r2_score\n",
    "from sklearn.model_selection import train_test_split"
   ]
  },
  {
   "cell_type": "code",
   "execution_count": 17,
   "id": "8f59f0df",
   "metadata": {
    "execution": {
     "iopub.execute_input": "2024-04-15T13:52:47.020083Z",
     "iopub.status.busy": "2024-04-15T13:52:47.019630Z",
     "iopub.status.idle": "2024-04-15T13:52:47.068509Z",
     "shell.execute_reply": "2024-04-15T13:52:47.066721Z"
    },
    "papermill": {
     "duration": 0.072356,
     "end_time": "2024-04-15T13:52:47.073607",
     "exception": false,
     "start_time": "2024-04-15T13:52:47.001251",
     "status": "completed"
    },
    "tags": []
   },
   "outputs": [
    {
     "data": {
      "text/plain": [
       "0.7007213964567389"
      ]
     },
     "execution_count": 17,
     "metadata": {},
     "output_type": "execute_result"
    }
   ],
   "source": [
    "lr = linear_model.LinearRegression()\n",
    "lr.fit(X_train, Y_train)  #phase d’apprentissage\n",
    "pred = lr.predict(X_test)\n",
    "score=r2_score(Y_test,pred)\n",
    "score                    "
   ]
  },
  {
   "cell_type": "code",
   "execution_count": 18,
   "id": "804288cd",
   "metadata": {
    "execution": {
     "iopub.execute_input": "2024-04-15T13:52:47.151671Z",
     "iopub.status.busy": "2024-04-15T13:52:47.150914Z",
     "iopub.status.idle": "2024-04-15T13:52:47.165881Z",
     "shell.execute_reply": "2024-04-15T13:52:47.164208Z"
    },
    "papermill": {
     "duration": 0.058394,
     "end_time": "2024-04-15T13:52:47.170409",
     "exception": false,
     "start_time": "2024-04-15T13:52:47.112015",
     "status": "completed"
    },
    "tags": []
   },
   "outputs": [
    {
     "name": "stdout",
     "output_type": "stream",
     "text": [
      "Mean Absolute Error: 0.22170829923083996\n",
      "Mean Squared Error: 0.13750557396322113\n",
      "Root Mean Squared Error: 0.3708174402090888\n"
     ]
    }
   ],
   "source": [
    "print('Mean Absolute Error:', mean_absolute_error(Y_test, pred))\n",
    "print('Mean Squared Error:', mean_squared_error(Y_test, pred))\n",
    "print('Root Mean Squared Error:', np.sqrt(mean_squared_error(Y_test, pred)))"
   ]
  },
  {
   "cell_type": "markdown",
   "id": "29091ee3",
   "metadata": {
    "papermill": {
     "duration": 0.016951,
     "end_time": "2024-04-15T13:52:47.209179",
     "exception": false,
     "start_time": "2024-04-15T13:52:47.192228",
     "status": "completed"
    },
    "tags": []
   },
   "source": [
    "**Question 16**\n"
   ]
  },
  {
   "cell_type": "code",
   "execution_count": 19,
   "id": "87795065",
   "metadata": {
    "execution": {
     "iopub.execute_input": "2024-04-15T13:52:47.247392Z",
     "iopub.status.busy": "2024-04-15T13:52:47.246426Z",
     "iopub.status.idle": "2024-04-15T13:52:47.277498Z",
     "shell.execute_reply": "2024-04-15T13:52:47.275705Z"
    },
    "papermill": {
     "duration": 0.054704,
     "end_time": "2024-04-15T13:52:47.282522",
     "exception": false,
     "start_time": "2024-04-15T13:52:47.227818",
     "status": "completed"
    },
    "tags": []
   },
   "outputs": [
    {
     "data": {
      "text/plain": [
       "-0.00041501163547019715"
      ]
     },
     "execution_count": 19,
     "metadata": {},
     "output_type": "execute_result"
    }
   ],
   "source": [
    "lasso = linear_model.Lasso()\n",
    "lasso.fit(X_train, Y_train)\n",
    "pred = lasso.predict(X_test)\n",
    "score = r2_score(Y_test, pred)\n",
    "score"
   ]
  },
  {
   "cell_type": "code",
   "execution_count": 20,
   "id": "f2b3d57d",
   "metadata": {
    "execution": {
     "iopub.execute_input": "2024-04-15T13:52:47.364888Z",
     "iopub.status.busy": "2024-04-15T13:52:47.362578Z",
     "iopub.status.idle": "2024-04-15T13:52:47.377705Z",
     "shell.execute_reply": "2024-04-15T13:52:47.376043Z"
    },
    "papermill": {
     "duration": 0.062237,
     "end_time": "2024-04-15T13:52:47.383225",
     "exception": false,
     "start_time": "2024-04-15T13:52:47.320988",
     "status": "completed"
    },
    "tags": []
   },
   "outputs": [
    {
     "name": "stdout",
     "output_type": "stream",
     "text": [
      "Mean Absolute Error: 0.4179327864635452\n",
      "Mean Squared Error: 0.4596474280075723\n",
      "Root Mean Squared Error: 0.6779730289676517\n"
     ]
    }
   ],
   "source": [
    "print('Mean Absolute Error:', mean_absolute_error(Y_test, pred))\n",
    "print('Mean Squared Error:', mean_squared_error(Y_test, pred))\n",
    "print('Root Mean Squared Error:', np.sqrt(mean_squared_error(Y_test, pred)))"
   ]
  },
  {
   "cell_type": "code",
   "execution_count": 21,
   "id": "6ebb9991",
   "metadata": {
    "execution": {
     "iopub.execute_input": "2024-04-15T13:52:47.423289Z",
     "iopub.status.busy": "2024-04-15T13:52:47.422888Z",
     "iopub.status.idle": "2024-04-15T13:52:47.452576Z",
     "shell.execute_reply": "2024-04-15T13:52:47.450828Z"
    },
    "papermill": {
     "duration": 0.054105,
     "end_time": "2024-04-15T13:52:47.457688",
     "exception": false,
     "start_time": "2024-04-15T13:52:47.403583",
     "status": "completed"
    },
    "tags": []
   },
   "outputs": [
    {
     "data": {
      "text/plain": [
       "0.7006946755609558"
      ]
     },
     "execution_count": 21,
     "metadata": {},
     "output_type": "execute_result"
    }
   ],
   "source": [
    "ridge = linear_model.Ridge()\n",
    "ridge.fit(X_train, Y_train)\n",
    "pred = ridge.predict(X_test)\n",
    "score = r2_score(Y_test, pred)\n",
    "score"
   ]
  },
  {
   "cell_type": "code",
   "execution_count": 22,
   "id": "c5bc28c5",
   "metadata": {
    "execution": {
     "iopub.execute_input": "2024-04-15T13:52:47.538707Z",
     "iopub.status.busy": "2024-04-15T13:52:47.536064Z",
     "iopub.status.idle": "2024-04-15T13:52:47.551517Z",
     "shell.execute_reply": "2024-04-15T13:52:47.549809Z"
    },
    "papermill": {
     "duration": 0.061265,
     "end_time": "2024-04-15T13:52:47.557453",
     "exception": false,
     "start_time": "2024-04-15T13:52:47.496188",
     "status": "completed"
    },
    "tags": []
   },
   "outputs": [
    {
     "name": "stdout",
     "output_type": "stream",
     "text": [
      "Mean Absolute Error: 0.22170236062656698\n",
      "Mean Squared Error: 0.13751785105910425\n",
      "Root Mean Squared Error: 0.3708339939367806\n"
     ]
    }
   ],
   "source": [
    "print('Mean Absolute Error:', mean_absolute_error(Y_test, pred))\n",
    "print('Mean Squared Error:', mean_squared_error(Y_test, pred))\n",
    "print('Root Mean Squared Error:', np.sqrt(mean_squared_error(Y_test, pred)))"
   ]
  }
 ],
 "metadata": {
  "kaggle": {
   "accelerator": "none",
   "dataSources": [
    {
     "datasetId": 46927,
     "sourceId": 85203,
     "sourceType": "datasetVersion"
    }
   ],
   "dockerImageVersionId": 30445,
   "isGpuEnabled": false,
   "isInternetEnabled": true,
   "language": "python",
   "sourceType": "notebook"
  },
  "kernelspec": {
   "display_name": "Python 3",
   "language": "python",
   "name": "python3"
  },
  "language_info": {
   "codemirror_mode": {
    "name": "ipython",
    "version": 3
   },
   "file_extension": ".py",
   "mimetype": "text/x-python",
   "name": "python",
   "nbconvert_exporter": "python",
   "pygments_lexer": "ipython3",
   "version": "3.7.12"
  },
  "papermill": {
   "default_parameters": {},
   "duration": 20.321138,
   "end_time": "2024-04-15T13:52:48.505729",
   "environment_variables": {},
   "exception": null,
   "input_path": "__notebook__.ipynb",
   "output_path": "__notebook__.ipynb",
   "parameters": {},
   "start_time": "2024-04-15T13:52:28.184591",
   "version": "2.4.0"
  }
 },
 "nbformat": 4,
 "nbformat_minor": 5
}
